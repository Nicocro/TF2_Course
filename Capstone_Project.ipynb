{
  "nbformat": 4,
  "nbformat_minor": 0,
  "metadata": {
    "kernelspec": {
      "display_name": "feedforward",
      "language": "python",
      "name": "feedforward"
    },
    "language_info": {
      "codemirror_mode": {
        "name": "ipython",
        "version": 3
      },
      "file_extension": ".py",
      "mimetype": "text/x-python",
      "name": "python",
      "nbconvert_exporter": "python",
      "pygments_lexer": "ipython3",
      "version": "3.6.9"
    },
    "colab": {
      "name": "Capstone Project.ipynb",
      "provenance": [],
      "collapsed_sections": [],
      "toc_visible": true,
      "include_colab_link": true
    },
    "accelerator": "GPU"
  },
  "cells": [
    {
      "cell_type": "markdown",
      "metadata": {
        "id": "view-in-github",
        "colab_type": "text"
      },
      "source": [
        "<a href=\"https://colab.research.google.com/github/Nicocro/TF2_Course/blob/main/Capstone_Project.ipynb\" target=\"_parent\"><img src=\"https://colab.research.google.com/assets/colab-badge.svg\" alt=\"Open In Colab\"/></a>"
      ]
    },
    {
      "cell_type": "markdown",
      "metadata": {
        "id": "rffwkDWTz_Fo"
      },
      "source": [
        "# Capstone Project\n",
        "## Image classifier for the SVHN dataset\n",
        "### Instructions\n",
        "\n",
        "In this notebook, you will create a neural network that classifies real-world images digits. You will use concepts from throughout this course in building, training, testing, validating and saving your Tensorflow classifier model.\n",
        "\n",
        "This project is peer-assessed. Within this notebook you will find instructions in each section for how to complete the project. Pay close attention to the instructions as the peer review will be carried out according to a grading rubric that checks key parts of the project instructions. Feel free to add extra cells into the notebook as required.\n",
        "\n",
        "### How to submit\n",
        "\n",
        "When you have completed the Capstone project notebook, you will submit a pdf of the notebook for peer review. First ensure that the notebook has been fully executed from beginning to end, and all of the cell outputs are visible. This is important, as the grading rubric depends on the reviewer being able to view the outputs of your notebook. Save the notebook as a pdf (you could download the notebook with File -> Download .ipynb, open the notebook locally, and then File -> Download as -> PDF via LaTeX), and then submit this pdf for review.\n",
        "\n",
        "### Let's get started!\n",
        "\n",
        "We'll start by running some imports, and loading the dataset. For this project you are free to make further imports throughout the notebook as you wish. "
      ]
    },
    {
      "cell_type": "code",
      "metadata": {
        "id": "O3vI8jSIz_Fs"
      },
      "source": [
        "import tensorflow as tf\n",
        "from scipy.io import loadmat\n",
        "\n",
        "#------------------- inports #\n",
        "from tensorflow.keras.preprocessing.image import load_img, img_to_array\n",
        "from tensorflow.keras.models import Sequential, load_model\n",
        "from tensorflow.keras.layers import Dense, Flatten, Conv2D, MaxPooling2D, BatchNormalization, Dropout\n",
        "from tensorflow.keras.callbacks import ModelCheckpoint, EarlyStopping\n",
        "import os\n",
        "import numpy as np\n",
        "import pandas as pd\n",
        "from tensorflow.keras.applications.resnet50 import preprocess_input, decode_predictions\n",
        "from tensorflow.keras.preprocessing import image\n",
        "import matplotlib.pyplot as plt\n"
      ],
      "execution_count": 21,
      "outputs": []
    },
    {
      "cell_type": "code",
      "metadata": {
        "id": "pg8DhzmH5KXg",
        "outputId": "ae020626-b64d-4ec2-e9cf-61377af0320f",
        "colab": {
          "base_uri": "https://localhost:8080/",
          "height": 51
        }
      },
      "source": [
        "#check version and GPU usage\n",
        "print(tf.__version__)\n",
        "tf.config.list_physical_devices('GPU')"
      ],
      "execution_count": 2,
      "outputs": [
        {
          "output_type": "stream",
          "text": [
            "2.3.0\n"
          ],
          "name": "stdout"
        },
        {
          "output_type": "execute_result",
          "data": {
            "text/plain": [
              "[PhysicalDevice(name='/physical_device:GPU:0', device_type='GPU')]"
            ]
          },
          "metadata": {
            "tags": []
          },
          "execution_count": 2
        }
      ]
    },
    {
      "cell_type": "markdown",
      "metadata": {
        "id": "8OrHY7TRz_Fx"
      },
      "source": [
        "For the capstone project, you will use the [SVHN dataset](http://ufldl.stanford.edu/housenumbers/). This is an image dataset of over 600,000 digit images in all, and is a harder dataset than MNIST as the numbers appear in the context of natural scene images. SVHN is obtained from house numbers in Google Street View images.\n",
        "\n",
        "* Y. Netzer, T. Wang, A. Coates, A. Bissacco, B. Wu and A. Y. Ng. \"Reading Digits in Natural Images with Unsupervised Feature Learning\". NIPS Workshop on Deep Learning and Unsupervised Feature Learning, 2011.\n",
        "\n",
        "The train and test datasets required for this project can be downloaded from [here](http://ufldl.stanford.edu/housenumbers/train.tar.gz) and [here](http://ufldl.stanford.edu/housenumbers/test.tar.gz). Once unzipped, you will have two files: `train_32x32.mat` and `test_32x32.mat`. You should store these files in Drive for use in this Colab notebook.\n",
        "\n",
        "Your goal is to develop an end-to-end workflow for building, training, validating, evaluating and saving a neural network that classifies a real-world image into one of ten classes."
      ]
    },
    {
      "cell_type": "code",
      "metadata": {
        "id": "kiE4Dwpx98pw",
        "outputId": "1965b316-a359-4619-ed6e-0ce4be0c4600",
        "colab": {
          "base_uri": "https://localhost:8080/",
          "height": 34
        }
      },
      "source": [
        "from google.colab import drive\n",
        "drive.mount('/content/drive')"
      ],
      "execution_count": 3,
      "outputs": [
        {
          "output_type": "stream",
          "text": [
            "Mounted at /content/drive\n"
          ],
          "name": "stdout"
        }
      ]
    },
    {
      "cell_type": "code",
      "metadata": {
        "id": "r8BHW8P_2wxw",
        "outputId": "2384d9b4-127e-4ebb-e5d3-cd7688a6d525",
        "colab": {
          "base_uri": "https://localhost:8080/",
          "height": 34
        }
      },
      "source": [
        "# Run this cell to connect to your Drive folder\n",
        "\n",
        "from google.colab import drive\n",
        "drive.mount('/content/gdrive')"
      ],
      "execution_count": 4,
      "outputs": [
        {
          "output_type": "stream",
          "text": [
            "Mounted at /content/gdrive\n"
          ],
          "name": "stdout"
        }
      ]
    },
    {
      "cell_type": "code",
      "metadata": {
        "id": "YWdiz3n_z_Fy"
      },
      "source": [
        "# Load the dataset from your Drive folder\n",
        "\n",
        "train = loadmat('/content/gdrive/My Drive/TF2_Capstone/train_32x32.mat')\n",
        "test = loadmat('/content/gdrive/My Drive/TF2_Capstone/test_32x32.mat')"
      ],
      "execution_count": 5,
      "outputs": []
    },
    {
      "cell_type": "markdown",
      "metadata": {
        "id": "Sot1IcuZz_F2"
      },
      "source": [
        "Both `train` and `test` are dictionaries with keys `X` and `y` for the input images and labels respectively."
      ]
    },
    {
      "cell_type": "markdown",
      "metadata": {
        "id": "_Q1n_Ai2z_F3"
      },
      "source": [
        "## 1. Inspect and preprocess the dataset\n",
        "* Extract the training and testing images and labels separately from the train and test dictionaries loaded for you.\n",
        "* Select a random sample of images and corresponding labels from the dataset (at least 10), and display them in a figure.\n",
        "* Convert the training and test images to grayscale by taking the average across all colour channels for each pixel. _Hint: retain the channel dimension, which will now have size 1._\n",
        "* Select a random sample of the grayscale images and corresponding labels from the dataset (at least 10), and display them in a figure."
      ]
    },
    {
      "cell_type": "code",
      "metadata": {
        "id": "-WIH5hyXz_F4",
        "outputId": "f98e96de-2ed0-44b7-8781-7ca469a79848",
        "colab": {
          "base_uri": "https://localhost:8080/",
          "height": 102
        }
      },
      "source": [
        "for x in train:\n",
        "  print(x)"
      ],
      "execution_count": 6,
      "outputs": [
        {
          "output_type": "stream",
          "text": [
            "__header__\n",
            "__version__\n",
            "__globals__\n",
            "X\n",
            "y\n"
          ],
          "name": "stdout"
        }
      ]
    },
    {
      "cell_type": "code",
      "metadata": {
        "id": "zmGJK3xgz_F8"
      },
      "source": [
        "#build a np array with train images\n",
        "x_train = train['X']\n",
        "x_train = np.moveaxis(x_train, -1, 0)\n",
        "\n",
        "#build numpy array with train labels\n",
        "y_train = train['y']\n",
        "\n",
        "#build a np array with test images\n",
        "x_test = test['X']\n",
        "x_test = np.moveaxis(x_test, -1, 0)\n",
        "\n",
        "#build numpy array with test labels\n",
        "y_test = test['y']"
      ],
      "execution_count": 7,
      "outputs": []
    },
    {
      "cell_type": "code",
      "metadata": {
        "id": "6SR4gYffz_F_",
        "outputId": "6ea27a9f-259a-4ca2-d1a1-45f67a19c1ea",
        "colab": {
          "base_uri": "https://localhost:8080/",
          "height": 283
        }
      },
      "source": [
        "#display one of the images\n",
        "\n",
        "i = 43 \n",
        "img = x_train[i,:,:,:]\n",
        "plt.imshow(img)\n",
        "plt.show()\n",
        "print(f\"label: {y_train[i]}\")"
      ],
      "execution_count": 8,
      "outputs": [
        {
          "output_type": "display_data",
          "data": {
            "image/png": "[encoded data removed]",
            "text/plain": [
              "<Figure size 432x288 with 1 Axes>"
            ]
          },
          "metadata": {
            "tags": [],
            "needs_background": "light"
          }
        },
        {
          "output_type": "stream",
          "text": [
            "label: [2]\n"
          ],
          "name": "stdout"
        }
      ]
    },
    {
      "cell_type": "code",
      "metadata": {
        "id": "UXYwWhHpz_GD"
      },
      "source": [
        "# convert images to greyscale\n",
        "x_train_gs = np.average(x_train, axis=-1)\n",
        "x_test_gs = np.average(x_test, axis=-1)"
      ],
      "execution_count": 9,
      "outputs": []
    },
    {
      "cell_type": "code",
      "metadata": {
        "id": "auFZ63dtz_GH",
        "outputId": "c9f676b6-4ef4-4a20-8550-db03a0c62c1d",
        "colab": {
          "base_uri": "https://localhost:8080/",
          "height": 85
        }
      },
      "source": [
        "#shape checks\n",
        "print(\"x_train_gs shape:\",x_train_gs.shape)\n",
        "print(\"y_train shape:\", y_train.shape)\n",
        "print(\"x_test_gs shape:\",x_test_gs.shape)\n",
        "print(\"y_test shape:\", y_test.shape)"
      ],
      "execution_count": 10,
      "outputs": [
        {
          "output_type": "stream",
          "text": [
            "x_train_gs shape: (73257, 32, 32)\n",
            "y_train shape: (73257, 1)\n",
            "x_test_gs shape: (26032, 32, 32)\n",
            "y_test shape: (26032, 1)\n"
          ],
          "name": "stdout"
        }
      ]
    },
    {
      "cell_type": "code",
      "metadata": {
        "id": "CGHZvq4zz_GK",
        "outputId": "5699417d-264f-4312-efeb-023b3aef6948",
        "colab": {
          "base_uri": "https://localhost:8080/",
          "height": 283
        }
      },
      "source": [
        "#showing greyscale image (it is greyscale even if plt distorts colors)\n",
        "i = 43 \n",
        "img = x_train_gs[i,:,:]\n",
        "plt.imshow(img)\n",
        "plt.show()\n",
        "print(f\"label: {y_train[i]}\")"
      ],
      "execution_count": 11,
      "outputs": [
        {
          "output_type": "display_data",
          "data": {
            "image/png": "[encoded data removed]",
            "text/plain": [
              "<Figure size 432x288 with 1 Axes>"
            ]
          },
          "metadata": {
            "tags": [],
            "needs_background": "light"
          }
        },
        {
          "output_type": "stream",
          "text": [
            "label: [2]\n"
          ],
          "name": "stdout"
        }
      ]
    },
    {
      "cell_type": "markdown",
      "metadata": {
        "id": "7e7iSyWXz_GN"
      },
      "source": [
        "## 2. MLP neural network classifier\n",
        "* Build an MLP classifier model using the Sequential API. Your model should use only Flatten and Dense layers, with the final layer having a 10-way softmax output. \n",
        "* You should design and build the model yourself. Feel free to experiment with different MLP architectures. _Hint: to achieve a reasonable accuracy you won't need to use more than 4 or 5 layers._\n",
        "* Print out the model summary (using the summary() method)\n",
        "* Compile and train the model (we recommend a maximum of 30 epochs), making use of both training and validation sets during the training run. \n",
        "* Your model should track at least one appropriate metric, and use at least two callbacks during training, one of which should be a ModelCheckpoint callback.\n",
        "* As a guide, you should aim to achieve a final categorical cross entropy training loss of less than 1.0 (the validation loss might be higher).\n",
        "* Plot the learning curves for loss vs epoch and accuracy vs epoch for both training and validation sets.\n",
        "* Compute and display the loss and accuracy of the trained model on the test set."
      ]
    },
    {
      "cell_type": "code",
      "metadata": {
        "id": "l14VCBFVz_GO",
        "outputId": "02830763-1e60-4ff9-ed23-564ddf1d80ed",
        "colab": {
          "base_uri": "https://localhost:8080/",
          "height": 323
        }
      },
      "source": [
        "#design the model and print summary\n",
        "\n",
        "model = Sequential([\n",
        "    Flatten(input_shape=x_train_gs[0].shape),\n",
        "    Dense(64, activation='relu'),\n",
        "    Dense(64, activation='relu'),\n",
        "    Dense(64, activation='relu'),\n",
        "    Dense(11, activation='softmax')\n",
        "])\n",
        "\n",
        "model.summary()"
      ],
      "execution_count": 12,
      "outputs": [
        {
          "output_type": "stream",
          "text": [
            "Model: \"sequential\"\n",
            "_________________________________________________________________\n",
            "Layer (type)                 Output Shape              Param #   \n",
            "=================================================================\n",
            "flatten (Flatten)            (None, 1024)              0         \n",
            "_________________________________________________________________\n",
            "dense (Dense)                (None, 64)                65600     \n",
            "_________________________________________________________________\n",
            "dense_1 (Dense)              (None, 64)                4160      \n",
            "_________________________________________________________________\n",
            "dense_2 (Dense)              (None, 64)                4160      \n",
            "_________________________________________________________________\n",
            "dense_3 (Dense)              (None, 11)                715       \n",
            "=================================================================\n",
            "Total params: 74,635\n",
            "Trainable params: 74,635\n",
            "Non-trainable params: 0\n",
            "_________________________________________________________________\n"
          ],
          "name": "stdout"
        }
      ]
    },
    {
      "cell_type": "code",
      "metadata": {
        "id": "beEZO1kvz_GR"
      },
      "source": [
        "#compile model\n",
        "model.compile(optimizer='adam', loss='sparse_categorical_crossentropy', metrics=['accuracy'])"
      ],
      "execution_count": 13,
      "outputs": []
    },
    {
      "cell_type": "code",
      "metadata": {
        "id": "YxJXq3xYz_GU"
      },
      "source": [
        "# callbacks 1: model checkpoint based on performance\n",
        "\n",
        "checkpoint_best_path = '/content/gdrive/My Drive/TF2_Capstone/model_checkpoints_best/checkpoint'\n",
        "checkpoint_best = ModelCheckpoint(filepath=checkpoint_best_path,\n",
        "                                 save_weights_only=True,\n",
        "                                 save_freq='epoch',\n",
        "                                 monitor='val_accuracy',\n",
        "                                 save_best_only=True,\n",
        "                                 verbose=1)\n",
        "#callback 2: earlystopping\n",
        "earlystopping = EarlyStopping(patience=2, monitor='val_accuracy')"
      ],
      "execution_count": 14,
      "outputs": []
    },
    {
      "cell_type": "code",
      "metadata": {
        "id": "pPPbzGhVz_GW",
        "outputId": "d0528c35-2236-4613-90a2-0c8f6bb5adf9",
        "colab": {
          "base_uri": "https://localhost:8080/",
          "height": 1000
        }
      },
      "source": [
        "#fit the model\n",
        "history = model.fit(x_train_gs, y_train, \n",
        "                    callbacks=[checkpoint_best, earlystopping],\n",
        "                    batch_size= 128,\n",
        "                    validation_data=(x_test_gs, y_test), \n",
        "                    epochs = 20)"
      ],
      "execution_count": 15,
      "outputs": [
        {
          "output_type": "stream",
          "text": [
            "Epoch 1/20\n",
            "553/573 [===========================>..] - ETA: 0s - loss: 4.3259 - accuracy: 0.1604\n",
            "Epoch 00001: val_accuracy improved from -inf to 0.26348, saving model to /content/gdrive/My Drive/TF2_Capstone/model_checkpoints_best/checkpoint\n",
            "573/573 [==============================] - 2s 4ms/step - loss: 4.2557 - accuracy: 0.1632 - val_loss: 2.2170 - val_accuracy: 0.2635\n",
            "Epoch 2/20\n",
            "570/573 [============================>.] - ETA: 0s - loss: 1.9280 - accuracy: 0.3582\n",
            "Epoch 00002: val_accuracy improved from 0.26348 to 0.43754, saving model to /content/gdrive/My Drive/TF2_Capstone/model_checkpoints_best/checkpoint\n",
            "573/573 [==============================] - 2s 3ms/step - loss: 1.9267 - accuracy: 0.3586 - val_loss: 1.7085 - val_accuracy: 0.4375\n",
            "Epoch 3/20\n",
            "564/573 [============================>.] - ETA: 0s - loss: 1.5313 - accuracy: 0.5083\n",
            "Epoch 00003: val_accuracy improved from 0.43754 to 0.52881, saving model to /content/gdrive/My Drive/TF2_Capstone/model_checkpoints_best/checkpoint\n",
            "573/573 [==============================] - 2s 3ms/step - loss: 1.5304 - accuracy: 0.5085 - val_loss: 1.5609 - val_accuracy: 0.5288\n",
            "Epoch 4/20\n",
            "563/573 [============================>.] - ETA: 0s - loss: 1.3880 - accuracy: 0.5648\n",
            "Epoch 00004: val_accuracy improved from 0.52881 to 0.55539, saving model to /content/gdrive/My Drive/TF2_Capstone/model_checkpoints_best/checkpoint\n",
            "573/573 [==============================] - 2s 3ms/step - loss: 1.3872 - accuracy: 0.5652 - val_loss: 1.4938 - val_accuracy: 0.5554\n",
            "Epoch 5/20\n",
            "561/573 [============================>.] - ETA: 0s - loss: 1.3247 - accuracy: 0.5905\n",
            "Epoch 00005: val_accuracy improved from 0.55539 to 0.56945, saving model to /content/gdrive/My Drive/TF2_Capstone/model_checkpoints_best/checkpoint\n",
            "573/573 [==============================] - 2s 3ms/step - loss: 1.3227 - accuracy: 0.5911 - val_loss: 1.4087 - val_accuracy: 0.5695\n",
            "Epoch 6/20\n",
            "567/573 [============================>.] - ETA: 0s - loss: 1.2706 - accuracy: 0.6081\n",
            "Epoch 00006: val_accuracy did not improve from 0.56945\n",
            "573/573 [==============================] - 2s 3ms/step - loss: 1.2705 - accuracy: 0.6081 - val_loss: 1.4511 - val_accuracy: 0.5672\n",
            "Epoch 7/20\n",
            "568/573 [============================>.] - ETA: 0s - loss: 1.2030 - accuracy: 0.6332\n",
            "Epoch 00007: val_accuracy improved from 0.56945 to 0.60391, saving model to /content/gdrive/My Drive/TF2_Capstone/model_checkpoints_best/checkpoint\n",
            "573/573 [==============================] - 2s 3ms/step - loss: 1.2033 - accuracy: 0.6331 - val_loss: 1.3469 - val_accuracy: 0.6039\n",
            "Epoch 8/20\n",
            "555/573 [============================>.] - ETA: 0s - loss: 1.1842 - accuracy: 0.6372\n",
            "Epoch 00008: val_accuracy did not improve from 0.60391\n",
            "573/573 [==============================] - 2s 3ms/step - loss: 1.1820 - accuracy: 0.6378 - val_loss: 1.3634 - val_accuracy: 0.5896\n",
            "Epoch 9/20\n",
            "564/573 [============================>.] - ETA: 0s - loss: 1.1727 - accuracy: 0.6387\n",
            "Epoch 00009: val_accuracy improved from 0.60391 to 0.61966, saving model to /content/gdrive/My Drive/TF2_Capstone/model_checkpoints_best/checkpoint\n",
            "573/573 [==============================] - 2s 3ms/step - loss: 1.1717 - accuracy: 0.6388 - val_loss: 1.2774 - val_accuracy: 0.6197\n",
            "Epoch 10/20\n",
            "562/573 [============================>.] - ETA: 0s - loss: 1.1326 - accuracy: 0.6540\n",
            "Epoch 00010: val_accuracy improved from 0.61966 to 0.63514, saving model to /content/gdrive/My Drive/TF2_Capstone/model_checkpoints_best/checkpoint\n",
            "573/573 [==============================] - 2s 3ms/step - loss: 1.1326 - accuracy: 0.6540 - val_loss: 1.2407 - val_accuracy: 0.6351\n",
            "Epoch 11/20\n",
            "558/573 [============================>.] - ETA: 0s - loss: 1.1065 - accuracy: 0.6620\n",
            "Epoch 00011: val_accuracy improved from 0.63514 to 0.64801, saving model to /content/gdrive/My Drive/TF2_Capstone/model_checkpoints_best/checkpoint\n",
            "573/573 [==============================] - 2s 3ms/step - loss: 1.1051 - accuracy: 0.6626 - val_loss: 1.1974 - val_accuracy: 0.6480\n",
            "Epoch 12/20\n",
            "571/573 [============================>.] - ETA: 0s - loss: 1.0601 - accuracy: 0.6767\n",
            "Epoch 00012: val_accuracy did not improve from 0.64801\n",
            "573/573 [==============================] - 2s 3ms/step - loss: 1.0601 - accuracy: 0.6767 - val_loss: 1.2275 - val_accuracy: 0.6354\n",
            "Epoch 13/20\n",
            "561/573 [============================>.] - ETA: 0s - loss: 1.0479 - accuracy: 0.6838\n",
            "Epoch 00013: val_accuracy improved from 0.64801 to 0.66038, saving model to /content/gdrive/My Drive/TF2_Capstone/model_checkpoints_best/checkpoint\n",
            "573/573 [==============================] - 2s 3ms/step - loss: 1.0481 - accuracy: 0.6836 - val_loss: 1.1704 - val_accuracy: 0.6604\n",
            "Epoch 14/20\n",
            "565/573 [============================>.] - ETA: 0s - loss: 1.0230 - accuracy: 0.6898\n",
            "Epoch 00014: val_accuracy did not improve from 0.66038\n",
            "573/573 [==============================] - 2s 3ms/step - loss: 1.0243 - accuracy: 0.6893 - val_loss: 1.2455 - val_accuracy: 0.6262\n",
            "Epoch 15/20\n",
            "563/573 [============================>.] - ETA: 0s - loss: 1.0150 - accuracy: 0.6895\n",
            "Epoch 00015: val_accuracy improved from 0.66038 to 0.67459, saving model to /content/gdrive/My Drive/TF2_Capstone/model_checkpoints_best/checkpoint\n",
            "573/573 [==============================] - 2s 3ms/step - loss: 1.0140 - accuracy: 0.6898 - val_loss: 1.1168 - val_accuracy: 0.6746\n",
            "Epoch 16/20\n",
            "568/573 [============================>.] - ETA: 0s - loss: 0.9827 - accuracy: 0.6989\n",
            "Epoch 00016: val_accuracy improved from 0.67459 to 0.68677, saving model to /content/gdrive/My Drive/TF2_Capstone/model_checkpoints_best/checkpoint\n",
            "573/573 [==============================] - 2s 3ms/step - loss: 0.9834 - accuracy: 0.6987 - val_loss: 1.0727 - val_accuracy: 0.6868\n",
            "Epoch 17/20\n",
            "564/573 [============================>.] - ETA: 0s - loss: 0.9668 - accuracy: 0.7058\n",
            "Epoch 00017: val_accuracy did not improve from 0.68677\n",
            "573/573 [==============================] - 2s 3ms/step - loss: 0.9661 - accuracy: 0.7058 - val_loss: 1.1520 - val_accuracy: 0.6616\n",
            "Epoch 18/20\n",
            "561/573 [============================>.] - ETA: 0s - loss: 0.9702 - accuracy: 0.7018\n",
            "Epoch 00018: val_accuracy did not improve from 0.68677\n",
            "573/573 [==============================] - 2s 3ms/step - loss: 0.9697 - accuracy: 0.7021 - val_loss: 1.2863 - val_accuracy: 0.6262\n"
          ],
          "name": "stdout"
        }
      ]
    },
    {
      "cell_type": "code",
      "metadata": {
        "id": "7b5_8VsCz_GZ",
        "outputId": "6033b125-8035-428a-ea5d-431d4955dd22",
        "colab": {
          "base_uri": "https://localhost:8080/",
          "height": 312
        }
      },
      "source": [
        "# Load the history into a pandas Dataframe\n",
        "df = pd.DataFrame(history.history)\n",
        "df.head()\n",
        "\n",
        "# Make a plot for the loss\n",
        "\n",
        "loss_plot = df.plot(y='loss', title = 'loss vs. epochs', legend = False)\n",
        "loss_plot.set(xlabel=\"Epochs\", ylabel=\"Loss\")"
      ],
      "execution_count": 16,
      "outputs": [
        {
          "output_type": "execute_result",
          "data": {
            "text/plain": [
              "[Text(0, 0.5, 'Loss'), Text(0.5, 0, 'Epochs')]"
            ]
          },
          "metadata": {
            "tags": []
          },
          "execution_count": 16
        },
        {
          "output_type": "display_data",
          "data": {
            "image/png": "[encoded data removed]",
            "text/plain": [
              "<Figure size 432x288 with 1 Axes>"
            ]
          },
          "metadata": {
            "tags": [],
            "needs_background": "light"
          }
        }
      ]
    },
    {
      "cell_type": "code",
      "metadata": {
        "id": "b0kH6VYqz_Gc",
        "outputId": "d0266ee9-ec15-4831-a592-4b76bf616190",
        "colab": {
          "base_uri": "https://localhost:8080/",
          "height": 312
        }
      },
      "source": [
        "# Make a plot for the accuracy\n",
        "\n",
        "accuracy_plot = df.plot(y='accuracy', title= 'dioboia', legend=False)\n",
        "accuracy_plot.set(xlabel=\"Epochs\", ylabel=\"accuracy\")\n"
      ],
      "execution_count": 17,
      "outputs": [
        {
          "output_type": "execute_result",
          "data": {
            "text/plain": [
              "[Text(0, 0.5, 'accuracy'), Text(0.5, 0, 'Epochs')]"
            ]
          },
          "metadata": {
            "tags": []
          },
          "execution_count": 17
        },
        {
          "output_type": "display_data",
          "data": {
            "image/png": "[encoded data removed]",
            "text/plain": [
              "<Figure size 432x288 with 1 Axes>"
            ]
          },
          "metadata": {
            "tags": [],
            "needs_background": "light"
          }
        }
      ]
    },
    {
      "cell_type": "markdown",
      "metadata": {
        "id": "ncPtDtCLz_Gg"
      },
      "source": [
        "## 3. CNN neural network classifier\n",
        "* Build a CNN classifier model using the Sequential API. Your model should use the Conv2D, MaxPool2D, BatchNormalization, Flatten, Dense and Dropout layers. The final layer should again have a 10-way softmax output. \n",
        "* You should design and build the model yourself. Feel free to experiment with different CNN architectures. _Hint: to achieve a reasonable accuracy you won't need to use more than 2 or 3 convolutional layers and 2 fully connected layers.)_\n",
        "* The CNN model should use fewer trainable parameters than your MLP model.\n",
        "* Compile and train the model (we recommend a maximum of 30 epochs), making use of both training and validation sets during the training run.\n",
        "* Your model should track at least one appropriate metric, and use at least two callbacks during training, one of which should be a ModelCheckpoint callback.\n",
        "* You should aim to beat the MLP model performance with fewer parameters!\n",
        "* Plot the learning curves for loss vs epoch and accuracy vs epoch for both training and validation sets.\n",
        "* Compute and display the loss and accuracy of the trained model on the test set."
      ]
    },
    {
      "cell_type": "code",
      "metadata": {
        "id": "yk2mH3Npz_Gh",
        "outputId": "7c8c3511-d02f-4da5-a654-9c3290e9c592",
        "colab": {
          "base_uri": "https://localhost:8080/",
          "height": 595
        }
      },
      "source": [
        "#design the model and print summary\n",
        "model_CNN = Sequential([\n",
        "    Conv2D(16, (3,3), activation = 'relu', input_shape=x_train[0].shape),\n",
        "    BatchNormalization(),\n",
        "    Conv2D(32, (3, 3), padding='valid', strides=1, activation='relu'),\n",
        "    MaxPooling2D((1,1), strides =3),\n",
        "    Dropout(0.3),\n",
        "    Conv2D(64, (3, 3), padding='valid', strides=2, activation='relu'),\n",
        "    BatchNormalization(),\n",
        "    Conv2D(64, (3, 3), activation='relu'),\n",
        "    MaxPooling2D((2, 2)),\n",
        "    Dropout(0.3),\n",
        "    Flatten(),\n",
        "    Dense(128, activation='relu'),\n",
        "    Dense(11, activation='softmax') #this layer has 11 units (0-10) to use the integer labels\n",
        "])\n",
        "\n",
        "model_CNN.summary()"
      ],
      "execution_count": 22,
      "outputs": [
        {
          "output_type": "stream",
          "text": [
            "Model: \"sequential_1\"\n",
            "_________________________________________________________________\n",
            "Layer (type)                 Output Shape              Param #   \n",
            "=================================================================\n",
            "conv2d_3 (Conv2D)            (None, 30, 30, 16)        448       \n",
            "_________________________________________________________________\n",
            "batch_normalization_1 (Batch (None, 30, 30, 16)        64        \n",
            "_________________________________________________________________\n",
            "conv2d_4 (Conv2D)            (None, 28, 28, 32)        4640      \n",
            "_________________________________________________________________\n",
            "max_pooling2d_1 (MaxPooling2 (None, 10, 10, 32)        0         \n",
            "_________________________________________________________________\n",
            "dropout (Dropout)            (None, 10, 10, 32)        0         \n",
            "_________________________________________________________________\n",
            "conv2d_5 (Conv2D)            (None, 4, 4, 64)          18496     \n",
            "_________________________________________________________________\n",
            "batch_normalization_2 (Batch (None, 4, 4, 64)          256       \n",
            "_________________________________________________________________\n",
            "conv2d_6 (Conv2D)            (None, 2, 2, 64)          36928     \n",
            "_________________________________________________________________\n",
            "max_pooling2d_2 (MaxPooling2 (None, 1, 1, 64)          0         \n",
            "_________________________________________________________________\n",
            "dropout_1 (Dropout)          (None, 1, 1, 64)          0         \n",
            "_________________________________________________________________\n",
            "flatten_1 (Flatten)          (None, 64)                0         \n",
            "_________________________________________________________________\n",
            "dense_4 (Dense)              (None, 128)               8320      \n",
            "_________________________________________________________________\n",
            "dense_5 (Dense)              (None, 11)                1419      \n",
            "=================================================================\n",
            "Total params: 70,571\n",
            "Trainable params: 70,411\n",
            "Non-trainable params: 160\n",
            "_________________________________________________________________\n"
          ],
          "name": "stdout"
        }
      ]
    },
    {
      "cell_type": "code",
      "metadata": {
        "id": "lbgRgZ5cz_Gn"
      },
      "source": [
        "#compile model\n",
        "model_CNN.compile(optimizer='adam', loss='sparse_categorical_crossentropy', metrics=['accuracy'])"
      ],
      "execution_count": 23,
      "outputs": []
    },
    {
      "cell_type": "code",
      "metadata": {
        "id": "nkmS2vV2z_Gs"
      },
      "source": [
        "# callbacks 1: model checkpoint based on performance\n",
        "\n",
        "checkpointCNN_best_path = '/content/gdrive/My Drive/TF2_Capstone/modelCNN_checkpoints_best/checkpoint'\n",
        "checkpointCNN_best = ModelCheckpoint(filepath=checkpointCNN_best_path,\n",
        "                                 save_weights_only=True,\n",
        "                                 save_freq='epoch',\n",
        "                                 monitor='val_accuracy',\n",
        "                                 save_best_only=True,\n",
        "                                 verbose=1)\n",
        "#callback 2: earlystopping\n",
        "earlystoppingCNN = EarlyStopping(patience=2, monitor='val_accuracy', verbose=1)"
      ],
      "execution_count": 24,
      "outputs": []
    },
    {
      "cell_type": "code",
      "metadata": {
        "id": "VytQECDVz_Gv",
        "outputId": "b09743fe-1b53-4dac-fe8b-517c3ee05558",
        "colab": {
          "base_uri": "https://localhost:8080/",
          "height": 462
        }
      },
      "source": [
        "#fit the model\n",
        "historyCNN = model_CNN.fit(x_train, y_train, \n",
        "                    callbacks=[checkpointCNN_best, earlystoppingCNN],\n",
        "                    batch_size= 128,\n",
        "                    validation_data=(x_test, y_test), \n",
        "                    epochs = 20)"
      ],
      "execution_count": 25,
      "outputs": [
        {
          "output_type": "stream",
          "text": [
            "Epoch 1/20\n",
            "573/573 [==============================] - ETA: 0s - loss: 1.2897 - accuracy: 0.5659\n",
            "Epoch 00001: val_accuracy improved from -inf to 0.80724, saving model to /content/gdrive/My Drive/TF2_Capstone/modelCNN_checkpoints_best/checkpoint\n",
            "573/573 [==============================] - 4s 7ms/step - loss: 1.2897 - accuracy: 0.5659 - val_loss: 0.6314 - val_accuracy: 0.8072\n",
            "Epoch 2/20\n",
            "565/573 [============================>.] - ETA: 0s - loss: 0.6296 - accuracy: 0.8033\n",
            "Epoch 00002: val_accuracy improved from 0.80724 to 0.83989, saving model to /content/gdrive/My Drive/TF2_Capstone/modelCNN_checkpoints_best/checkpoint\n",
            "573/573 [==============================] - 4s 6ms/step - loss: 0.6285 - accuracy: 0.8034 - val_loss: 0.5198 - val_accuracy: 0.8399\n",
            "Epoch 3/20\n",
            "572/573 [============================>.] - ETA: 0s - loss: 0.5228 - accuracy: 0.8373\n",
            "Epoch 00003: val_accuracy improved from 0.83989 to 0.87796, saving model to /content/gdrive/My Drive/TF2_Capstone/modelCNN_checkpoints_best/checkpoint\n",
            "573/573 [==============================] - 4s 6ms/step - loss: 0.5228 - accuracy: 0.8374 - val_loss: 0.4040 - val_accuracy: 0.8780\n",
            "Epoch 4/20\n",
            "572/573 [============================>.] - ETA: 0s - loss: 0.4744 - accuracy: 0.8535\n",
            "Epoch 00004: val_accuracy improved from 0.87796 to 0.89244, saving model to /content/gdrive/My Drive/TF2_Capstone/modelCNN_checkpoints_best/checkpoint\n",
            "573/573 [==============================] - 4s 6ms/step - loss: 0.4745 - accuracy: 0.8535 - val_loss: 0.3668 - val_accuracy: 0.8924\n",
            "Epoch 5/20\n",
            "566/573 [============================>.] - ETA: 0s - loss: 0.4431 - accuracy: 0.8631\n",
            "Epoch 00005: val_accuracy did not improve from 0.89244\n",
            "573/573 [==============================] - 4s 6ms/step - loss: 0.4434 - accuracy: 0.8631 - val_loss: 0.4104 - val_accuracy: 0.8784\n",
            "Epoch 6/20\n",
            "564/573 [============================>.] - ETA: 0s - loss: 0.4168 - accuracy: 0.8701\n",
            "Epoch 00006: val_accuracy did not improve from 0.89244\n",
            "573/573 [==============================] - 4s 6ms/step - loss: 0.4173 - accuracy: 0.8701 - val_loss: 0.3656 - val_accuracy: 0.8921\n",
            "Epoch 00006: early stopping\n"
          ],
          "name": "stdout"
        }
      ]
    },
    {
      "cell_type": "code",
      "metadata": {
        "id": "60mJypwQz_Gx",
        "outputId": "a56a1bbf-2cc5-4619-9098-f42504827395",
        "colab": {
          "base_uri": "https://localhost:8080/",
          "height": 312
        }
      },
      "source": [
        "# Load the history into a pandas Dataframe\n",
        "df_CNN = pd.DataFrame(historyCNN.history)\n",
        "df_CNN.head()\n",
        "\n",
        "# Make a plot for the loss\n",
        "\n",
        "loss_plot_CNN = df_CNN.plot(y='loss', title = 'loss vs. epochs', legend = False)\n",
        "loss_plot_CNN.set(xlabel=\"Epochs\", ylabel=\"Loss\")"
      ],
      "execution_count": 27,
      "outputs": [
        {
          "output_type": "execute_result",
          "data": {
            "text/plain": [
              "[Text(0, 0.5, 'Loss'), Text(0.5, 0, 'Epochs')]"
            ]
          },
          "metadata": {
            "tags": []
          },
          "execution_count": 27
        },
        {
          "output_type": "display_data",
          "data": {
            "image/png": "[encoded data removed]",
            "text/plain": [
              "<Figure size 432x288 with 1 Axes>"
            ]
          },
          "metadata": {
            "tags": [],
            "needs_background": "light"
          }
        }
      ]
    },
    {
      "cell_type": "code",
      "metadata": {
        "id": "w2v80qosz_G0",
        "outputId": "8de11021-1d68-4002-cb70-73b5f4dfa9e0",
        "colab": {
          "base_uri": "https://localhost:8080/",
          "height": 312
        }
      },
      "source": [
        "# Make a plot for the accuracy\n",
        "\n",
        "accuracy_plot_CNN = df_CNN.plot(y='accuracy', title= 'dioboia', legend=False)\n",
        "accuracy_plot_CNN.set(xlabel=\"Epochs\", ylabel=\"accuracy\")"
      ],
      "execution_count": 28,
      "outputs": [
        {
          "output_type": "execute_result",
          "data": {
            "text/plain": [
              "[Text(0, 0.5, 'accuracy'), Text(0.5, 0, 'Epochs')]"
            ]
          },
          "metadata": {
            "tags": []
          },
          "execution_count": 28
        },
        {
          "output_type": "display_data",
          "data": {
            "image/png": "[encoded data removed]",
            "text/plain": [
              "<Figure size 432x288 with 1 Axes>"
            ]
          },
          "metadata": {
            "tags": [],
            "needs_background": "light"
          }
        }
      ]
    },
    {
      "cell_type": "markdown",
      "metadata": {
        "id": "3iBYFPWUz_G4"
      },
      "source": [
        "## 4. Get model predictions\n",
        "* Load the best weights for the MLP and CNN models that you saved during the training run.\n",
        "* Randomly select 5 images and corresponding labels from the test set and display the images with their labels.\n",
        "* Alongside the image and label, show each model’s predictive distribution as a bar chart, and the final model prediction given by the label with maximum probability."
      ]
    },
    {
      "cell_type": "code",
      "metadata": {
        "id": "XMYYWs0oz_G5"
      },
      "source": [
        ""
      ],
      "execution_count": 15,
      "outputs": []
    },
    {
      "cell_type": "code",
      "metadata": {
        "id": "8yUPWbFCz_G8"
      },
      "source": [
        ""
      ],
      "execution_count": 15,
      "outputs": []
    },
    {
      "cell_type": "code",
      "metadata": {
        "id": "W48syko0z_G-"
      },
      "source": [
        ""
      ],
      "execution_count": 15,
      "outputs": []
    },
    {
      "cell_type": "code",
      "metadata": {
        "id": "J_qfLvK-z_HA"
      },
      "source": [
        ""
      ],
      "execution_count": 15,
      "outputs": []
    },
    {
      "cell_type": "code",
      "metadata": {
        "id": "2Lx68VA7z_HE"
      },
      "source": [
        ""
      ],
      "execution_count": 15,
      "outputs": []
    },
    {
      "cell_type": "code",
      "metadata": {
        "id": "NxKa37PWz_HL"
      },
      "source": [
        ""
      ],
      "execution_count": 15,
      "outputs": []
    }
  ]
}